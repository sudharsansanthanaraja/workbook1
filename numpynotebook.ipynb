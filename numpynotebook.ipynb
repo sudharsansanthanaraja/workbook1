{
  "cells": [
    {
      "cell_type": "markdown",
      "metadata": {
        "id": "view-in-github",
        "colab_type": "text"
      },
      "source": [
        "<a href=\"https://colab.research.google.com/github/sudharsansanthanaraja/workbook1/blob/main/numpynotebook.ipynb\" target=\"_parent\"><img src=\"https://colab.research.google.com/assets/colab-badge.svg\" alt=\"Open In Colab\"/></a>"
      ]
    },
    {
      "cell_type": "code",
      "execution_count": null,
      "id": "dddbd2cc",
      "metadata": {
        "id": "dddbd2cc"
      },
      "outputs": [],
      "source": [
        "import pandas as pd\n",
        "import numpy as np"
      ]
    },
    {
      "cell_type": "code",
      "execution_count": null,
      "id": "c731a84e",
      "metadata": {
        "id": "c731a84e",
        "outputId": "6f072ef6-06ca-4a72-ff6f-a7aa5095b578"
      },
      "outputs": [
        {
          "data": {
            "text/plain": [
              "array([[[0, 0, 0, 0, 0],\n",
              "        [0, 0, 0, 0, 0],\n",
              "        [0, 0, 0, 0, 0],\n",
              "        [0, 0, 0, 0, 0]],\n",
              "\n",
              "       [[0, 0, 0, 0, 0],\n",
              "        [0, 0, 0, 0, 0],\n",
              "        [0, 0, 0, 0, 0],\n",
              "        [0, 0, 0, 0, 0]],\n",
              "\n",
              "       [[0, 0, 0, 0, 0],\n",
              "        [0, 0, 0, 0, 0],\n",
              "        [0, 0, 0, 0, 0],\n",
              "        [0, 0, 0, 0, 0]]], dtype=int64)"
            ]
          },
          "execution_count": 34,
          "metadata": {},
          "output_type": "execute_result"
        }
      ],
      "source": [
        "# initializing a numpy array with zeros.\n",
        "n7 = np.zeros((3,4,5), dtype = 'int64')\n",
        "n7"
      ]
    },
    {
      "cell_type": "code",
      "execution_count": null,
      "id": "6205a28e",
      "metadata": {
        "id": "6205a28e",
        "outputId": "99b5e507-4456-468f-a37d-b2337ff7038f"
      },
      "outputs": [
        {
          "data": {
            "text/plain": [
              "array([134, 131, 130, 112, 119, 106, 122, 144, 112, 101, 139, 125, 115,\n",
              "       114, 100])"
            ]
          },
          "execution_count": 35,
          "metadata": {},
          "output_type": "execute_result"
        }
      ],
      "source": [
        "#initializing a numpy array with random values.\n",
        "\n",
        "A = np.random.randint(100, 150, 15, dtype = 'int32')\n",
        "A"
      ]
    },
    {
      "cell_type": "code",
      "execution_count": null,
      "id": "418eee12",
      "metadata": {
        "id": "418eee12",
        "outputId": "3ec24f2a-7c68-4825-8ae8-5f02e2821516"
      },
      "outputs": [
        {
          "data": {
            "text/plain": [
              "array([23, 26, 29, 32, 35, 38, 41, 44])"
            ]
          },
          "execution_count": 36,
          "metadata": {},
          "output_type": "execute_result"
        }
      ],
      "source": [
        "# initializing a numpy array with a range of values - the last paramater is the skip value.\n",
        "\n",
        "n1 = np.arange(23,45, 3)\n",
        "n1"
      ]
    },
    {
      "cell_type": "code",
      "execution_count": null,
      "id": "42897bd8",
      "metadata": {
        "id": "42897bd8",
        "outputId": "4e9aa765-9acf-44ba-dbf5-8f010920dda3"
      },
      "outputs": [
        {
          "data": {
            "text/plain": [
              "array([[3, 3, 3, 3, 3, 3, 3, 3, 3, 3, 3, 3, 3, 3, 3],\n",
              "       [3, 3, 3, 3, 3, 3, 3, 3, 3, 3, 3, 3, 3, 3, 3],\n",
              "       [3, 3, 3, 3, 3, 3, 3, 3, 3, 3, 3, 3, 3, 3, 3],\n",
              "       [3, 3, 3, 3, 3, 3, 3, 3, 3, 3, 3, 3, 3, 3, 3]])"
            ]
          },
          "execution_count": 37,
          "metadata": {},
          "output_type": "execute_result"
        }
      ],
      "source": [
        "# initializing a numpy array with identical values.\n",
        "\n",
        "n2 = np.full((4, 15), 3)\n",
        "n2"
      ]
    },
    {
      "cell_type": "code",
      "execution_count": null,
      "id": "2d63a27e",
      "metadata": {
        "id": "2d63a27e",
        "outputId": "19273c94-713d-4c26-dc7b-3f5bfcb47d42"
      },
      "outputs": [
        {
          "data": {
            "text/plain": [
              "array([ 2,  4,  6,  7,  8,  3,  5,  7,  9, 10])"
            ]
          },
          "execution_count": 39,
          "metadata": {},
          "output_type": "execute_result"
        }
      ],
      "source": [
        "# horizontally combining two arrays\n",
        "\n",
        "n3 = np.array([2,4,6,7,8])\n",
        "n4 = np.array([3,5,7,9,10])\n",
        "\n",
        "np.hstack((n3,n4))"
      ]
    },
    {
      "cell_type": "code",
      "execution_count": null,
      "id": "b5dec887",
      "metadata": {
        "scrolled": true,
        "id": "b5dec887",
        "outputId": "0e14eaf6-a004-4176-c9bd-9012426577cb"
      },
      "outputs": [
        {
          "data": {
            "text/plain": [
              "array([[ 2,  4,  6,  7,  8],\n",
              "       [ 3,  5,  7,  9, 10]])"
            ]
          },
          "execution_count": 40,
          "metadata": {},
          "output_type": "execute_result"
        }
      ],
      "source": [
        "# vertically combining two arrays.\n",
        "np.vstack((n3,n4))"
      ]
    },
    {
      "cell_type": "code",
      "execution_count": null,
      "id": "82cdc143",
      "metadata": {
        "id": "82cdc143",
        "outputId": "b8dc220c-b656-42d9-dea5-29137eda7a3e"
      },
      "outputs": [
        {
          "data": {
            "text/plain": [
              "array([[ 2,  3],\n",
              "       [ 4,  5],\n",
              "       [ 6,  7],\n",
              "       [ 7,  9],\n",
              "       [ 8, 10]])"
            ]
          },
          "execution_count": 41,
          "metadata": {},
          "output_type": "execute_result"
        }
      ],
      "source": [
        "# column stack - combines adjacent values.\n",
        "\n",
        "np.column_stack((n3,n4))"
      ]
    },
    {
      "cell_type": "code",
      "execution_count": null,
      "id": "4fecea52",
      "metadata": {
        "id": "4fecea52",
        "outputId": "927c3ecd-c3d5-4799-e8d7-29d8b60d5058"
      },
      "outputs": [
        {
          "data": {
            "text/plain": [
              "array([7])"
            ]
          },
          "execution_count": 42,
          "metadata": {},
          "output_type": "execute_result"
        }
      ],
      "source": [
        "# intersection with numpy arrays.\n",
        "\n",
        "np.intersect1d(n3,n4)"
      ]
    },
    {
      "cell_type": "code",
      "execution_count": null,
      "id": "02334946",
      "metadata": {
        "id": "02334946",
        "outputId": "1d34d223-14ac-4c87-d660-cc2bb80e5513"
      },
      "outputs": [
        {
          "data": {
            "text/plain": [
              "array([2, 4, 6, 8])"
            ]
          },
          "execution_count": 43,
          "metadata": {},
          "output_type": "execute_result"
        }
      ],
      "source": [
        "# difference with numpy arrays.\n",
        "\n",
        "np.setdiff1d(n3,n4)"
      ]
    },
    {
      "cell_type": "code",
      "execution_count": null,
      "id": "01720f4a",
      "metadata": {
        "id": "01720f4a",
        "outputId": "6edd3a43-0e72-480e-d4dc-23d6bd640418"
      },
      "outputs": [
        {
          "data": {
            "text/plain": [
              "61"
            ]
          },
          "execution_count": 45,
          "metadata": {},
          "output_type": "execute_result"
        }
      ],
      "source": [
        "# totalling an array.\n",
        "\n",
        "np.sum([n3, n4])"
      ]
    },
    {
      "cell_type": "code",
      "execution_count": null,
      "id": "1b3abab3",
      "metadata": {
        "id": "1b3abab3",
        "outputId": "ea4a2584-cbe7-4285-ec04-43d5e0f08c1b"
      },
      "outputs": [
        {
          "data": {
            "text/plain": [
              "array([ 5,  9, 13, 16, 18])"
            ]
          },
          "execution_count": 46,
          "metadata": {},
          "output_type": "execute_result"
        }
      ],
      "source": [
        "# totalling across axes.\n",
        "# 1st axis\n",
        "\n",
        "np.sum([n3, n4], axis = 0)"
      ]
    },
    {
      "cell_type": "code",
      "execution_count": null,
      "id": "c2fb5a1f",
      "metadata": {
        "id": "c2fb5a1f",
        "outputId": "12a10867-64b1-4b52-a174-3b24aa8fd099"
      },
      "outputs": [
        {
          "data": {
            "text/plain": [
              "array([27, 34])"
            ]
          },
          "execution_count": 47,
          "metadata": {},
          "output_type": "execute_result"
        }
      ],
      "source": [
        "# 2nd axis\n",
        "\n",
        "np.sum([n3, n4], axis = 1)"
      ]
    },
    {
      "cell_type": "code",
      "execution_count": null,
      "id": "e933e950",
      "metadata": {
        "id": "e933e950",
        "outputId": "45090606-57cc-491e-be67-b12eba20d93f"
      },
      "outputs": [
        {
          "data": {
            "text/plain": [
              "5.4"
            ]
          },
          "execution_count": 48,
          "metadata": {},
          "output_type": "execute_result"
        }
      ],
      "source": [
        "# mean\n",
        "\n",
        "n3.mean()"
      ]
    },
    {
      "cell_type": "code",
      "execution_count": null,
      "id": "5cec5cbb",
      "metadata": {
        "id": "5cec5cbb",
        "outputId": "ac17a278-2d87-4fa4-affa-3052abfd04aa"
      },
      "outputs": [
        {
          "data": {
            "text/plain": [
              "6.0"
            ]
          },
          "execution_count": 49,
          "metadata": {},
          "output_type": "execute_result"
        }
      ],
      "source": [
        "# median\n",
        "\n",
        "np.median(n3)"
      ]
    },
    {
      "cell_type": "code",
      "execution_count": null,
      "id": "4ad110ec",
      "metadata": {
        "id": "4ad110ec",
        "outputId": "da64426a-85f4-489c-a465-dc327db67ea5"
      },
      "outputs": [
        {
          "data": {
            "text/plain": [
              "2.5612496949731396"
            ]
          },
          "execution_count": 50,
          "metadata": {},
          "output_type": "execute_result"
        }
      ],
      "source": [
        "# standard deviation\n",
        "\n",
        "np.std(n4)"
      ]
    },
    {
      "cell_type": "code",
      "execution_count": null,
      "id": "00a03a35",
      "metadata": {
        "scrolled": true,
        "id": "00a03a35",
        "outputId": "6bb32919-7ce2-48b7-d3fd-40e8aff39ceb"
      },
      "outputs": [
        {
          "data": {
            "text/plain": [
              "array([[ 1,  2,  3],\n",
              "       [ 4,  5,  7],\n",
              "       [ 6,  8, 10]])"
            ]
          },
          "execution_count": 51,
          "metadata": {},
          "output_type": "execute_result"
        }
      ],
      "source": [
        "#matrix\n",
        "\n",
        "n5 = np.array([[1,2,3],\n",
        "              [4,5,7],\n",
        "              [6,8,10]])\n",
        "n5"
      ]
    },
    {
      "cell_type": "code",
      "execution_count": null,
      "id": "c6b75311",
      "metadata": {
        "id": "c6b75311",
        "outputId": "1bff3c21-ccf7-4d89-eaae-d59bc078012d"
      },
      "outputs": [
        {
          "data": {
            "text/plain": [
              "array([[10, 20, 30],\n",
              "       [23, 45, 67],\n",
              "       [16, 19, 17]])"
            ]
          },
          "execution_count": 57,
          "metadata": {},
          "output_type": "execute_result"
        }
      ],
      "source": [
        "n6 = np.array([[10,20,30],\n",
        "             [23,45,67],\n",
        "             [16,19,17]])\n",
        "n6"
      ]
    },
    {
      "cell_type": "code",
      "execution_count": null,
      "id": "84f94bc1",
      "metadata": {
        "id": "84f94bc1",
        "outputId": "2926d191-825c-4ca0-8d88-cf9456ed245a"
      },
      "outputs": [
        {
          "data": {
            "text/plain": [
              "array([ 6,  8, 10])"
            ]
          },
          "execution_count": 54,
          "metadata": {},
          "output_type": "execute_result"
        }
      ],
      "source": [
        "#indexing a matrix\n",
        "\n",
        "n5[2]"
      ]
    },
    {
      "cell_type": "code",
      "execution_count": null,
      "id": "193fdccb",
      "metadata": {
        "scrolled": true,
        "id": "193fdccb",
        "outputId": "62946860-8007-417d-d25c-1894ba3cb0b1"
      },
      "outputs": [
        {
          "data": {
            "text/plain": [
              "array([[104, 167, 215],\n",
              "       [267, 438, 574],\n",
              "       [404, 670, 886]])"
            ]
          },
          "execution_count": 84,
          "metadata": {},
          "output_type": "execute_result"
        }
      ],
      "source": [
        "#matrix multiplication\n",
        "\n",
        "n5.dot(n6)"
      ]
    },
    {
      "cell_type": "code",
      "execution_count": null,
      "id": "af0dc44b",
      "metadata": {
        "id": "af0dc44b"
      },
      "outputs": [],
      "source": [
        "#saving a numpy array\n",
        "np.save('new_numpy', n6)"
      ]
    },
    {
      "cell_type": "code",
      "execution_count": null,
      "id": "e0a0ceae",
      "metadata": {
        "scrolled": true,
        "id": "e0a0ceae",
        "outputId": "d2a82afc-3817-4ddd-e5e4-d99fa124508d"
      },
      "outputs": [
        {
          "data": {
            "text/plain": [
              "array([[10, 20, 30],\n",
              "       [23, 45, 67],\n",
              "       [16, 19, 17]])"
            ]
          },
          "execution_count": 56,
          "metadata": {},
          "output_type": "execute_result"
        }
      ],
      "source": [
        "#loading a numpy array\n",
        "\n",
        "np.load('new_numpy.npy')"
      ]
    },
    {
      "cell_type": "markdown",
      "id": "e7521bc7",
      "metadata": {
        "id": "e7521bc7"
      },
      "source": [
        "Boolean Arrays\n",
        "\n",
        "In NumPy, boolean arrays are straightforward NumPy arrays with array components that are either “True” or “False.”"
      ]
    },
    {
      "cell_type": "code",
      "execution_count": null,
      "id": "67d01414",
      "metadata": {
        "id": "67d01414",
        "outputId": "f9d66280-fcd9-4eaf-a26b-7dbf04fc5ac9"
      },
      "outputs": [
        {
          "name": "stdout",
          "output_type": "stream",
          "text": [
            "Oridnary array: [0 1 2 3 4 5 6 7]\n",
            "Boolean array: [False  True  True  True  True  True  True  True]\n"
          ]
        }
      ],
      "source": [
        "# Basic syntax\n",
        "\n",
        "n8 = np.array([0,1,2,3,4,5,6,7])\n",
        "print('Oridnary array: {}'.format(n8))\n",
        "\n",
        "n8bool = np.array(n8, dtype = 'bool')\n",
        "print('Boolean array: {}'.format(n8bool))"
      ]
    },
    {
      "cell_type": "code",
      "execution_count": null,
      "id": "4dee8a4a",
      "metadata": {
        "id": "4dee8a4a",
        "outputId": "2a37d003-a2b0-4472-9192-edbbdc918629"
      },
      "outputs": [
        {
          "data": {
            "text/plain": [
              "array([3, 4, 5, 6, 7])"
            ]
          },
          "execution_count": 24,
          "metadata": {},
          "output_type": "execute_result"
        }
      ],
      "source": [
        "# filtering components of an array\n",
        "\n",
        "n8[n8 >=3]"
      ]
    },
    {
      "cell_type": "code",
      "execution_count": null,
      "id": "0f9bb275",
      "metadata": {
        "id": "0f9bb275",
        "outputId": "e7798668-fd29-409a-c353-569d2a57252e"
      },
      "outputs": [
        {
          "name": "stdout",
          "output_type": "stream",
          "text": [
            "[ True  True  True  True False]\n"
          ]
        }
      ],
      "source": [
        "# broadcasiting a boolean array\n",
        "\n",
        "a = np.arange(5)\n",
        "\n",
        "print(a <= 3)"
      ]
    },
    {
      "cell_type": "markdown",
      "id": "567e3d95",
      "metadata": {
        "id": "567e3d95"
      },
      "source": [
        "LINEAR ALGEBRA with NumPy\n",
        "\n",
        "Basic Operations:"
      ]
    },
    {
      "cell_type": "code",
      "execution_count": null,
      "id": "405afefd",
      "metadata": {
        "id": "405afefd",
        "outputId": "f6d9fd67-16f9-4e69-98d6-8b8d41a14a07"
      },
      "outputs": [
        {
          "data": {
            "text/plain": [
              "array([[ 270,  360,  470],\n",
              "       [ 605,  807, 1054],\n",
              "       [ 194,  263,  351]])"
            ]
          },
          "execution_count": 63,
          "metadata": {},
          "output_type": "execute_result"
        }
      ],
      "source": [
        "# 1. dot multiplication of arrays\n",
        "np.dot(n6,n5)"
      ]
    },
    {
      "cell_type": "code",
      "execution_count": null,
      "id": "77176960",
      "metadata": {
        "id": "77176960",
        "outputId": "f6130393-391c-427a-f23a-006094c088ae"
      },
      "outputs": [
        {
          "data": {
            "text/plain": [
              "38"
            ]
          },
          "execution_count": 61,
          "metadata": {},
          "output_type": "execute_result"
        }
      ],
      "source": [
        "# 2. vdot multiplication - vector multiplication\n",
        "\n",
        "array1 = np.array([0,1,2,3])\n",
        "array2 = np.array([4,5,6,7])\n",
        "\n",
        "np.vdot(array1,array2)"
      ]
    }
  ],
  "metadata": {
    "kernelspec": {
      "display_name": "Python 3 (ipykernel)",
      "language": "python",
      "name": "python3"
    },
    "language_info": {
      "codemirror_mode": {
        "name": "ipython",
        "version": 3
      },
      "file_extension": ".py",
      "mimetype": "text/x-python",
      "name": "python",
      "nbconvert_exporter": "python",
      "pygments_lexer": "ipython3",
      "version": "3.10.9"
    },
    "colab": {
      "provenance": [],
      "include_colab_link": true
    }
  },
  "nbformat": 4,
  "nbformat_minor": 5
}